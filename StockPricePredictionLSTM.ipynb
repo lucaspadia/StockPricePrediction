{
 "cells": [
  {
   "cell_type": "markdown",
   "id": "d57b51dc",
   "metadata": {},
   "source": [
    "Algoritmo de previsão de preços de ações utilizando rede neural *Long short-term memory*\n",
    "\n",
    "Utilizando a linguagem Python, desenvolver um programa para prever o preço de ações utilizando *Machine Learning*, mais especificamente uma Arquitetura de Redes Neurais *Long short-term memory (LSTM)*. Para esse projeto, foi utilizado o histórico de preços da ação da Microsoft obtido através da blbioteca *yfinance*\n",
    "\n",
    "\n"
   ]
  },
  {
   "cell_type": "code",
   "execution_count": null,
   "id": "ce38e129",
   "metadata": {},
   "outputs": [],
   "source": []
  }
 ],
 "metadata": {
  "kernelspec": {
   "display_name": "Python 3 (ipykernel)",
   "language": "python",
   "name": "python3"
  },
  "language_info": {
   "codemirror_mode": {
    "name": "ipython",
    "version": 3
   },
   "file_extension": ".py",
   "mimetype": "text/x-python",
   "name": "python",
   "nbconvert_exporter": "python",
   "pygments_lexer": "ipython3",
   "version": "3.9.7"
  }
 },
 "nbformat": 4,
 "nbformat_minor": 5
}
