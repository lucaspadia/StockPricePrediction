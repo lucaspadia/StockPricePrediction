{
 "cells": [
  {
   "cell_type": "markdown",
   "id": "0cf5a9d7",
   "metadata": {},
   "source": [
    "##Algoritmo de previsão de preços de ações utilizando rede neural *Long short-term memory*\n",
    "\n",
    "Utilizando a linguagem Python, desenvolver um programa para prever o preço de ações utilizando *Machine Learning*, mais especificamente uma Arquitetura de Redes Neurais *Long short-term memory (LSTM)*. Para esse projeto, foi utilizado o histórico de preços da ação da Microsoft obtido através da blbioteca *yfinance*.\n",
    "\n",
    "\n"
   ]
  },
  {
   "cell_type": "code",
   "execution_count": 19,
   "id": "ae546f79",
   "metadata": {},
   "outputs": [],
   "source": [
    "# Bibliotecas utilizadas\n",
    "import pandas as pd\n",
    "import yfinance as yf\n",
    "from datetime import date, timedelta"
   ]
  },
  {
   "cell_type": "code",
   "execution_count": 20,
   "id": "d3e3187b",
   "metadata": {
    "scrolled": true
   },
   "outputs": [],
   "source": [
    "#Obtendo o conjunto dos dados\n",
    "today = date.today()\n",
    "\n",
    "endDate = today.strftime(\"%Y-%m-%d\")\n",
    "startDate = today - timedelta(days=5000)\n",
    "startDateF = startDate.strftime(\"%Y-%m-%d\")\n",
    "\n",
    "data = yf.download('MSFT', start=startDateF, end=endDate, progress=False)"
   ]
  },
  {
   "cell_type": "code",
   "execution_count": 21,
   "id": "d403468b",
   "metadata": {},
   "outputs": [
    {
     "data": {
      "text/html": [
       "<div>\n",
       "<style scoped>\n",
       "    .dataframe tbody tr th:only-of-type {\n",
       "        vertical-align: middle;\n",
       "    }\n",
       "\n",
       "    .dataframe tbody tr th {\n",
       "        vertical-align: top;\n",
       "    }\n",
       "\n",
       "    .dataframe thead th {\n",
       "        text-align: right;\n",
       "    }\n",
       "</style>\n",
       "<table border=\"1\" class=\"dataframe\">\n",
       "  <thead>\n",
       "    <tr style=\"text-align: right;\">\n",
       "      <th></th>\n",
       "      <th>Open</th>\n",
       "      <th>High</th>\n",
       "      <th>Low</th>\n",
       "      <th>Close</th>\n",
       "      <th>Adj Close</th>\n",
       "      <th>Volume</th>\n",
       "    </tr>\n",
       "    <tr>\n",
       "      <th>Date</th>\n",
       "      <th></th>\n",
       "      <th></th>\n",
       "      <th></th>\n",
       "      <th></th>\n",
       "      <th></th>\n",
       "      <th></th>\n",
       "    </tr>\n",
       "  </thead>\n",
       "  <tbody>\n",
       "    <tr>\n",
       "      <th>2008-08-25</th>\n",
       "      <td>27.610001</td>\n",
       "      <td>27.840000</td>\n",
       "      <td>27.459999</td>\n",
       "      <td>27.660000</td>\n",
       "      <td>20.691088</td>\n",
       "      <td>51381300</td>\n",
       "    </tr>\n",
       "    <tr>\n",
       "      <th>2008-08-26</th>\n",
       "      <td>27.580000</td>\n",
       "      <td>27.719999</td>\n",
       "      <td>27.170000</td>\n",
       "      <td>27.270000</td>\n",
       "      <td>20.399338</td>\n",
       "      <td>44774400</td>\n",
       "    </tr>\n",
       "    <tr>\n",
       "      <th>2008-08-27</th>\n",
       "      <td>27.340000</td>\n",
       "      <td>27.790001</td>\n",
       "      <td>27.129999</td>\n",
       "      <td>27.559999</td>\n",
       "      <td>20.616282</td>\n",
       "      <td>33975300</td>\n",
       "    </tr>\n",
       "    <tr>\n",
       "      <th>2008-08-28</th>\n",
       "      <td>27.610001</td>\n",
       "      <td>28.010000</td>\n",
       "      <td>27.600000</td>\n",
       "      <td>27.940001</td>\n",
       "      <td>20.900537</td>\n",
       "      <td>48372600</td>\n",
       "    </tr>\n",
       "    <tr>\n",
       "      <th>2008-08-29</th>\n",
       "      <td>27.680000</td>\n",
       "      <td>27.780001</td>\n",
       "      <td>27.290001</td>\n",
       "      <td>27.290001</td>\n",
       "      <td>20.414305</td>\n",
       "      <td>50735500</td>\n",
       "    </tr>\n",
       "  </tbody>\n",
       "</table>\n",
       "</div>"
      ],
      "text/plain": [
       "                 Open       High        Low      Close  Adj Close    Volume\n",
       "Date                                                                       \n",
       "2008-08-25  27.610001  27.840000  27.459999  27.660000  20.691088  51381300\n",
       "2008-08-26  27.580000  27.719999  27.170000  27.270000  20.399338  44774400\n",
       "2008-08-27  27.340000  27.790001  27.129999  27.559999  20.616282  33975300\n",
       "2008-08-28  27.610001  28.010000  27.600000  27.940001  20.900537  48372600\n",
       "2008-08-29  27.680000  27.780001  27.290001  27.290001  20.414305  50735500"
      ]
     },
     "execution_count": 21,
     "metadata": {},
     "output_type": "execute_result"
    }
   ],
   "source": [
    "#Verificando as primeiras cinco linhas\n",
    "data.head()"
   ]
  },
  {
   "cell_type": "markdown",
   "id": "d27a0ce4",
   "metadata": {},
   "source": [
    "Análise Exploratória dos dados"
   ]
  },
  {
   "cell_type": "code",
   "execution_count": 22,
   "id": "cd3f3706",
   "metadata": {},
   "outputs": [
    {
     "name": "stdout",
     "output_type": "stream",
     "text": [
      "<class 'pandas.core.frame.DataFrame'>\n",
      "DatetimeIndex: 3447 entries, 2008-08-25 to 2022-05-03\n",
      "Data columns (total 6 columns):\n",
      " #   Column     Non-Null Count  Dtype  \n",
      "---  ------     --------------  -----  \n",
      " 0   Open       3447 non-null   float64\n",
      " 1   High       3447 non-null   float64\n",
      " 2   Low        3447 non-null   float64\n",
      " 3   Close      3447 non-null   float64\n",
      " 4   Adj Close  3447 non-null   float64\n",
      " 5   Volume     3447 non-null   int64  \n",
      "dtypes: float64(5), int64(1)\n",
      "memory usage: 188.5 KB\n"
     ]
    }
   ],
   "source": [
    "#Verificando as informações dos objetos das colunas\n",
    "data.info()"
   ]
  },
  {
   "cell_type": "code",
   "execution_count": 24,
   "id": "79b2a2de",
   "metadata": {},
   "outputs": [
    {
     "data": {
      "text/plain": [
       "Open         0\n",
       "High         0\n",
       "Low          0\n",
       "Close        0\n",
       "Adj Close    0\n",
       "Volume       0\n",
       "dtype: int64"
      ]
     },
     "execution_count": 24,
     "metadata": {},
     "output_type": "execute_result"
    }
   ],
   "source": [
    "#Checar se existe valores NA nas colunas dos dados\n",
    "data.isnull().sum()"
   ]
  },
  {
   "cell_type": "code",
   "execution_count": 25,
   "id": "f0a73125",
   "metadata": {},
   "outputs": [
    {
     "data": {
      "text/html": [
       "<div>\n",
       "<style scoped>\n",
       "    .dataframe tbody tr th:only-of-type {\n",
       "        vertical-align: middle;\n",
       "    }\n",
       "\n",
       "    .dataframe tbody tr th {\n",
       "        vertical-align: top;\n",
       "    }\n",
       "\n",
       "    .dataframe thead th {\n",
       "        text-align: right;\n",
       "    }\n",
       "</style>\n",
       "<table border=\"1\" class=\"dataframe\">\n",
       "  <thead>\n",
       "    <tr style=\"text-align: right;\">\n",
       "      <th></th>\n",
       "      <th>Open</th>\n",
       "      <th>High</th>\n",
       "      <th>Low</th>\n",
       "      <th>Close</th>\n",
       "      <th>Adj Close</th>\n",
       "      <th>Volume</th>\n",
       "    </tr>\n",
       "  </thead>\n",
       "  <tbody>\n",
       "    <tr>\n",
       "      <th>count</th>\n",
       "      <td>3447.000000</td>\n",
       "      <td>3447.000000</td>\n",
       "      <td>3447.000000</td>\n",
       "      <td>3447.000000</td>\n",
       "      <td>3447.000000</td>\n",
       "      <td>3.447000e+03</td>\n",
       "    </tr>\n",
       "    <tr>\n",
       "      <th>mean</th>\n",
       "      <td>84.956748</td>\n",
       "      <td>85.775982</td>\n",
       "      <td>84.092930</td>\n",
       "      <td>84.976107</td>\n",
       "      <td>80.499319</td>\n",
       "      <td>4.174088e+07</td>\n",
       "    </tr>\n",
       "    <tr>\n",
       "      <th>std</th>\n",
       "      <td>81.167039</td>\n",
       "      <td>81.968905</td>\n",
       "      <td>80.282600</td>\n",
       "      <td>81.166119</td>\n",
       "      <td>82.481501</td>\n",
       "      <td>2.519712e+07</td>\n",
       "    </tr>\n",
       "    <tr>\n",
       "      <th>min</th>\n",
       "      <td>15.200000</td>\n",
       "      <td>15.620000</td>\n",
       "      <td>14.870000</td>\n",
       "      <td>15.150000</td>\n",
       "      <td>11.487971</td>\n",
       "      <td>7.425600e+06</td>\n",
       "    </tr>\n",
       "    <tr>\n",
       "      <th>25%</th>\n",
       "      <td>28.805000</td>\n",
       "      <td>29.025001</td>\n",
       "      <td>28.510000</td>\n",
       "      <td>28.785001</td>\n",
       "      <td>23.014761</td>\n",
       "      <td>2.479955e+07</td>\n",
       "    </tr>\n",
       "    <tr>\n",
       "      <th>50%</th>\n",
       "      <td>46.910000</td>\n",
       "      <td>47.430000</td>\n",
       "      <td>46.529999</td>\n",
       "      <td>47.000000</td>\n",
       "      <td>41.715446</td>\n",
       "      <td>3.484970e+07</td>\n",
       "    </tr>\n",
       "    <tr>\n",
       "      <th>75%</th>\n",
       "      <td>108.559998</td>\n",
       "      <td>109.530003</td>\n",
       "      <td>107.475002</td>\n",
       "      <td>108.445000</td>\n",
       "      <td>104.291428</td>\n",
       "      <td>5.166245e+07</td>\n",
       "    </tr>\n",
       "    <tr>\n",
       "      <th>max</th>\n",
       "      <td>344.619995</td>\n",
       "      <td>349.670013</td>\n",
       "      <td>342.200012</td>\n",
       "      <td>343.109985</td>\n",
       "      <td>342.402008</td>\n",
       "      <td>3.193179e+08</td>\n",
       "    </tr>\n",
       "  </tbody>\n",
       "</table>\n",
       "</div>"
      ],
      "text/plain": [
       "              Open         High          Low        Close    Adj Close  \\\n",
       "count  3447.000000  3447.000000  3447.000000  3447.000000  3447.000000   \n",
       "mean     84.956748    85.775982    84.092930    84.976107    80.499319   \n",
       "std      81.167039    81.968905    80.282600    81.166119    82.481501   \n",
       "min      15.200000    15.620000    14.870000    15.150000    11.487971   \n",
       "25%      28.805000    29.025001    28.510000    28.785001    23.014761   \n",
       "50%      46.910000    47.430000    46.529999    47.000000    41.715446   \n",
       "75%     108.559998   109.530003   107.475002   108.445000   104.291428   \n",
       "max     344.619995   349.670013   342.200012   343.109985   342.402008   \n",
       "\n",
       "             Volume  \n",
       "count  3.447000e+03  \n",
       "mean   4.174088e+07  \n",
       "std    2.519712e+07  \n",
       "min    7.425600e+06  \n",
       "25%    2.479955e+07  \n",
       "50%    3.484970e+07  \n",
       "75%    5.166245e+07  \n",
       "max    3.193179e+08  "
      ]
     },
     "execution_count": 25,
     "metadata": {},
     "output_type": "execute_result"
    }
   ],
   "source": [
    "#Estatísticas descritivas das colunas\n",
    "data.describe()"
   ]
  },
  {
   "cell_type": "code",
   "execution_count": 28,
   "id": "f0128d74",
   "metadata": {},
   "outputs": [
    {
     "name": "stdout",
     "output_type": "stream",
     "text": [
      "Close        1.000000\n",
      "Adj Close    0.999978\n",
      "Low          0.999899\n",
      "High         0.999888\n",
      "Open         0.999794\n",
      "Volume      -0.341257\n",
      "Name: Close, dtype: float64\n"
     ]
    }
   ],
   "source": [
    "#Verificar a correlação de todas as colunas com a coluna alvo \"Close\"\n",
    "correlation = data.corr()\n",
    "print(correlation[\"Close\"].sort_values(ascending=False))"
   ]
  },
  {
   "cell_type": "code",
   "execution_count": null,
   "id": "898f23e5",
   "metadata": {},
   "outputs": [],
   "source": []
  }
 ],
 "metadata": {
  "kernelspec": {
   "display_name": "Python 3 (ipykernel)",
   "language": "python",
   "name": "python3"
  },
  "language_info": {
   "codemirror_mode": {
    "name": "ipython",
    "version": 3
   },
   "file_extension": ".py",
   "mimetype": "text/x-python",
   "name": "python",
   "nbconvert_exporter": "python",
   "pygments_lexer": "ipython3",
   "version": "3.9.7"
  }
 },
 "nbformat": 4,
 "nbformat_minor": 5
}
