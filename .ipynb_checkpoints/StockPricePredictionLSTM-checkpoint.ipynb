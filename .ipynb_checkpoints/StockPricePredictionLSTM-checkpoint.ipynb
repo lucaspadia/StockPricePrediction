{
 "cells": [
  {
   "cell_type": "markdown",
   "id": "89002062",
   "metadata": {},
   "source": [
    "### Stock Price Prediction with LSTM\n",
    "\n",
    "**This program predicts stock prices with LSTM using the Python programming language. For price history of Microsoft stock, the yfinance library is used.**\n"
   ]
  },
  {
   "cell_type": "code",
   "execution_count": null,
   "id": "44ccd2f8",
   "metadata": {},
   "outputs": [],
   "source": []
  }
 ],
 "metadata": {
  "kernelspec": {
   "display_name": "Python 3 (ipykernel)",
   "language": "python",
   "name": "python3"
  },
  "language_info": {
   "codemirror_mode": {
    "name": "ipython",
    "version": 3
   },
   "file_extension": ".py",
   "mimetype": "text/x-python",
   "name": "python",
   "nbconvert_exporter": "python",
   "pygments_lexer": "ipython3",
   "version": "3.9.7"
  }
 },
 "nbformat": 4,
 "nbformat_minor": 5
}
